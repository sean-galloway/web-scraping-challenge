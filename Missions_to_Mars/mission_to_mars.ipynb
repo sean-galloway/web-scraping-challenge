{
 "metadata": {
  "language_info": {
   "codemirror_mode": {
    "name": "ipython",
    "version": 3
   },
   "file_extension": ".py",
   "mimetype": "text/x-python",
   "name": "python",
   "nbconvert_exporter": "python",
   "pygments_lexer": "ipython3",
   "version": "3.8.3-final"
  },
  "orig_nbformat": 2,
  "kernelspec": {
   "name": "python3",
   "display_name": "Python 3.8.3 64-bit ('dv_u12': conda)",
   "metadata": {
    "interpreter": {
     "hash": "0ce0f408ee1c98743738c0206eb1eacb05d1d9e0ae6945ed220f8870561b9ebc"
    }
   }
  }
 },
 "nbformat": 4,
 "nbformat_minor": 2,
 "cells": [
  {
   "cell_type": "code",
   "execution_count": 1,
   "metadata": {},
   "outputs": [],
   "source": [
    "# Include the needed packages\n",
    "from bs4 import BeautifulSoup as bs\n",
    "import requests\n",
    "from splinter import Browser\n",
    "import pandas as pd\n",
    "from webdriver_manager.chrome import ChromeDriverManager"
   ]
  },
  {
   "cell_type": "code",
   "execution_count": 2,
   "metadata": {},
   "outputs": [
    {
     "output_type": "stream",
     "name": "stderr",
     "text": [
      "[WDM] - Current google-chrome version is 87.0.4280\n",
      "[WDM] - Get LATEST driver version for 87.0.4280\n",
      "[WDM] - Driver [C:\\Users\\galloway\\.wdm\\drivers\\chromedriver\\win32\\87.0.4280.88\\chromedriver.exe] found in cache\n",
      " \n"
     ]
    }
   ],
   "source": [
    "# Setup splinter\n",
    "executable_path = {'executable_path': ChromeDriverManager().install()}\n",
    "browser = Browser('chrome', **executable_path, headless=False)"
   ]
  },
  {
   "source": [
    "## NASA Mars News"
   ],
   "cell_type": "markdown",
   "metadata": {}
  },
  {
   "cell_type": "code",
   "execution_count": 3,
   "metadata": {},
   "outputs": [],
   "source": [
    "# NASA Mars News\n",
    "# URL to scrape\n",
    "url = \"https://mars.nasa.gov/news/\"\n",
    "response = requests.get(url)"
   ]
  },
  {
   "cell_type": "code",
   "execution_count": 4,
   "metadata": {},
   "outputs": [],
   "source": [
    "# Create BS Object, parse with html.parser\n",
    "soup = bs(response.text, 'html.parser')\n",
    "# Inspect the HTML\n",
    "# print(soup.prettify())"
   ]
  },
  {
   "cell_type": "code",
   "execution_count": 5,
   "metadata": {},
   "outputs": [
    {
     "output_type": "execute_result",
     "data": {
      "text/plain": [
       "[<div class=\"content_title\">\n",
       " <a href=\"/news/8837/nasa-to-host-virtual-briefing-on-february-perseverance-mars-rover-landing/\">\n",
       " NASA to Host Virtual Briefing on February Perseverance Mars Rover Landing\n",
       " </a>\n",
       " </div>,\n",
       " <div class=\"content_title\">\n",
       " <a href=\"/news/8836/nasa-insights-mole-ends-its-journey-on-mars/\">\n",
       " NASA InSight's ‘Mole' Ends Its Journey on Mars\n",
       " </a>\n",
       " </div>,\n",
       " <div class=\"content_title\">\n",
       " <a href=\"/news/8716/nasa-to-broadcast-mars-2020-perseverance-launch-prelaunch-activities/\">\n",
       " NASA to Broadcast Mars 2020 Perseverance Launch, Prelaunch Activities\n",
       " </a>\n",
       " </div>,\n",
       " <div class=\"content_title\">\n",
       " <a href=\"/news/8695/the-launch-is-approaching-for-nasas-next-mars-rover-perseverance/\">\n",
       " The Launch Is Approaching for NASA's Next Mars Rover, Perseverance\n",
       " </a>\n",
       " </div>,\n",
       " <div class=\"content_title\">\n",
       " <a href=\"/news/8692/nasa-to-hold-mars-2020-perseverance-rover-launch-briefing/\">\n",
       " NASA to Hold Mars 2020 Perseverance Rover Launch Briefing\n",
       " </a>\n",
       " </div>,\n",
       " <div class=\"content_title\">\n",
       " <a href=\"/news/8659/alabama-high-school-student-names-nasas-mars-helicopter/\">\n",
       " Alabama High School Student Names NASA's Mars Helicopter\n",
       " </a>\n",
       " </div>]"
      ]
     },
     "metadata": {},
     "execution_count": 5
    }
   ],
   "source": [
    "# Grab all of the Title Content\n",
    "results = soup.find_all('div', class_=\"content_title\")\n",
    "results"
   ]
  },
  {
   "cell_type": "code",
   "execution_count": 6,
   "metadata": {},
   "outputs": [
    {
     "output_type": "execute_result",
     "data": {
      "text/plain": [
       "'NASA to Host Virtual Briefing on February Perseverance Mars Rover Landing'"
      ]
     },
     "metadata": {},
     "execution_count": 6
    }
   ],
   "source": [
    "# Set up a list\n",
    "news_titles = []\n",
    "# Loop over div elements\n",
    "for result in results:\n",
    "    # Check for anchors\n",
    "    if (result.a):\n",
    "        # check for non-blank text\n",
    "        if (result.a.text):\n",
    "            # Append text to the list\n",
    "            news_titles.append(result.a.text.strip())\n",
    "news_title = news_titles[0]\n",
    "news_title"
   ]
  },
  {
   "cell_type": "code",
   "execution_count": 7,
   "metadata": {},
   "outputs": [
    {
     "output_type": "execute_result",
     "data": {
      "text/plain": [
       "[<div class=\"rollover_description_inner\">\n",
       " NASA leadership and members of the mission will discuss the agency’s latest rover, which touches down on the Red Planet on Feb. 18.\n",
       " </div>,\n",
       " <div class=\"rollover_description_inner\">\n",
       " The heat probe hasn’t been able to gain the friction it needs to dig, but the mission has been granted an extension to carry on with its other science.\n",
       " </div>,\n",
       " <div class=\"rollover_description_inner\">\n",
       " Starting July 27, news activities will cover everything from mission engineering and science to returning samples from Mars to, of course, the launch itself.\n",
       " </div>,\n",
       " <div class=\"rollover_description_inner\">\n",
       " The Red Planet's surface has been visited by eight NASA spacecraft. The ninth will be the first that includes a roundtrip ticket in its flight plan. \n",
       " </div>,\n",
       " <div class=\"rollover_description_inner\">\n",
       " Learn more about the agency's next Red Planet mission during a live event on June 17.\n",
       " </div>,\n",
       " <div class=\"rollover_description_inner\">\n",
       " Vaneeza Rupani's essay was chosen as the name for the small spacecraft, which will mark NASA's first attempt at powered flight on another planet.\n",
       " </div>]"
      ]
     },
     "metadata": {},
     "execution_count": 7
    }
   ],
   "source": [
    "# Find the div for description paragraph below title\n",
    "p_results = soup.find_all('div', class_=\"rollover_description_inner\")\n",
    "p_results"
   ]
  },
  {
   "cell_type": "code",
   "execution_count": 8,
   "metadata": {},
   "outputs": [
    {
     "output_type": "execute_result",
     "data": {
      "text/plain": [
       "'NASA leadership and members of the mission will discuss the agency’s latest rover, which touches down on the Red Planet on Feb. 18.'"
      ]
     },
     "metadata": {},
     "execution_count": 8
    }
   ],
   "source": [
    "# Set up a list\n",
    "p_list = []\n",
    "for result in p_results:\n",
    "    text = result.text.strip()\n",
    "    p_list.append(text)\n",
    "news_p = p_list[0]\n",
    "news_p"
   ]
  },
  {
   "source": [
    "## JPL Mars Space Images - Featured Image"
   ],
   "cell_type": "markdown",
   "metadata": {}
  },
  {
   "cell_type": "code",
   "execution_count": 9,
   "metadata": {},
   "outputs": [],
   "source": [
    "# JPL Mars Space Images - Featured Image\n",
    "# URL to scrape\n",
    "url = \"https://www.jpl.nasa.gov/spaceimages/?search=&category=Mars\"\n",
    "browser.visit(url)"
   ]
  },
  {
   "cell_type": "code",
   "execution_count": 12,
   "metadata": {},
   "outputs": [
    {
     "output_type": "stream",
     "name": "stdout",
     "text": [
      "https://d2pn8kiwq2w21t.cloudfront.net/images/jpegPIA24364.2e16d0ba.fill-400x400-c50.jpg\n"
     ]
    }
   ],
   "source": [
    "# HTML Text \n",
    "cards = browser.find_by_css('.BaseImage')\n",
    "cards[0].click()\n",
    "soup=bs(browser.html, 'html.parser')\n",
    "images=soup.find_all('img', class_='BaseImage')[0]\n",
    "print(images['data-src'])"
   ]
  },
  {
   "source": [
    "## Mars Facts"
   ],
   "cell_type": "markdown",
   "metadata": {}
  },
  {
   "cell_type": "code",
   "execution_count": null,
   "metadata": {},
   "outputs": [],
   "source": [
    "# Mars Facts\n",
    "url = 'http://space-facts.com/mars/'\n",
    "\n",
    "# Use Panda's `read_html` to parse the url\n",
    "mars_facts = pd.read_html(url)\n",
    "\n",
    "# Find the mars facts DataFrame in the list of DataFrames as assign it to mars_df\n",
    "mars_df = mars_facts[0]\n",
    "\n",
    "# Assign the columns ['Description', 'Mars']\n",
    "mars_df.columns = ['Description', 'Mars']\n",
    "\n",
    "# Set the index to the Description\n",
    "mars_df.set_index('Description', inplace=True)\n",
    "\n",
    "# print out the html of the facts\n",
    "print(mars_df.to_html())\n",
    "\n",
    "# Display mars_df\n",
    "mars_df"
   ]
  },
  {
   "source": [
    "## Mars Hemispheres"
   ],
   "cell_type": "markdown",
   "metadata": {}
  },
  {
   "cell_type": "code",
   "execution_count": null,
   "metadata": {},
   "outputs": [],
   "source": [
    "# Need to use splinter since there are click throughs\n",
    "url = 'https://astrogeology.usgs.gov/search/results?q=hemisphere+enhanced&k1=target&v1=Mars'\n",
    "browser.visit(url)\n"
   ]
  },
  {
   "cell_type": "code",
   "execution_count": null,
   "metadata": {},
   "outputs": [],
   "source": [
    "# HTML Object\n",
    "html = browser.html\n",
    "\n",
    "# Parse HTML with Beautiful Soup\n",
    "soup = bs(html, 'html.parser')\n",
    "\n",
    "# Retreive all items that contain mars hemispheres information\n",
    "items = soup.find_all('div', class_='item')\n",
    "\n",
    "# Create empty list for urls \n",
    "image_urls = []\n",
    "\n",
    "# Store the main_ul \n",
    "main_url = 'https://astrogeology.usgs.gov'\n",
    "\n",
    "# Loop through the items previously stored\n",
    "for item in items: \n",
    "    # Store title\n",
    "    title = item.find('h3').text\n",
    "    \n",
    "    # Store link that leads to full image website\n",
    "    img_url = item.find('a', class_='itemLink product-item')['href']\n",
    "    \n",
    "    # Visit the link that contains the full image website \n",
    "    browser.visit(main_url + img_url)\n",
    "    \n",
    "    # HTML Object of individual hemisphere information website \n",
    "    img_html = browser.html\n",
    "    \n",
    "    # Parse HTML with Beautiful Soup for every individual hemisphere information website \n",
    "    soup = bs(img_html, 'html.parser')\n",
    "    \n",
    "    # Retrieve full image source \n",
    "    img_url = main_url + soup.find('img', class_='wide-image')['src']\n",
    "    \n",
    "    # Append the retrieved information into a list of dictionaries \n",
    "    image_urls.append({\"title\" : title, \"img_url\" : img_url})\n",
    "    \n",
    "browser.quit()\n",
    "\n",
    "# Display hemisphere_image_url\n",
    "image_urls"
   ]
  },
  {
   "cell_type": "code",
   "execution_count": null,
   "metadata": {},
   "outputs": [],
   "source": []
  }
 ]
}